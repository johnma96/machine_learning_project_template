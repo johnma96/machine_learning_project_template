{
 "cells": [
  {
   "cell_type": "markdown",
   "metadata": {},
   "source": [
    "This is a tutorial notebook to show some utils \n",
    "\n",
    "1. Add a csv file with the name \"test.csv\" in the data/raw folder"
   ]
  },
  {
   "cell_type": "code",
   "execution_count": null,
   "metadata": {},
   "outputs": [],
   "source": [
    "# Use this initial code to work in the notebook as if it were a module, that\n",
    "# is, to be able to export classes and functions from other subpackages\n",
    "\n",
    "import os\n",
    "import sys\n",
    "\n",
    "package_path = os.path.abspath('.').split(os.sep + 'notebooks')[0]\n",
    "if package_path not in sys.path:\n",
    "    sys.path.append(package_path)"
   ]
  },
  {
   "cell_type": "code",
   "execution_count": null,
   "metadata": {},
   "outputs": [],
   "source": [
    "from {{ cookiecutter.project_slug }}.utils import PathManager, read_file, ExecuteQuery, ReadData"
   ]
  },
  {
   "cell_type": "markdown",
   "metadata": {},
   "source": [
    "# Get absolute paths for files and folders"
   ]
  },
  {
   "cell_type": "code",
   "execution_count": null,
   "metadata": {},
   "outputs": [],
   "source": [
    "file_name = 'test.csv' #File in data/raw/\n",
    "PathManager().get_abs_path_file(file_name=file_name)"
   ]
  },
  {
   "cell_type": "code",
   "execution_count": null,
   "metadata": {},
   "outputs": [],
   "source": [
    "folder_name = 'processed' #Folder in data/\n",
    "PathManager().get_abs_path_file(file_name=file_name)"
   ]
  },
  {
   "cell_type": "markdown",
   "metadata": {},
   "source": [
    "# Read file stored in a folder"
   ]
  },
  {
   "cell_type": "code",
   "execution_count": null,
   "metadata": {},
   "outputs": [],
   "source": [
    "file_name = 'test.csv' #File in data/raw/\n",
    "read_file(file_path = file_name) # Past the full path or just the file's name"
   ]
  },
  {
   "cell_type": "markdown",
   "metadata": {},
   "source": [
    "# Read data from Impala using query"
   ]
  },
  {
   "cell_type": "code",
   "execution_count": null,
   "metadata": {},
   "outputs": [],
   "source": [
    "ReadData().from_impala(query='test.sql')"
   ]
  },
  {
   "cell_type": "markdown",
   "metadata": {},
   "source": [
    "# Execute queries from python"
   ]
  },
  {
   "cell_type": "code",
   "execution_count": null,
   "metadata": {},
   "outputs": [],
   "source": [
    "# Object with connection to Impala. If your ODBS connection has the name \n",
    "# 'impala_cloud', work without adding the conn_str parameter, otherwise supply \n",
    "# this parameter to the object with the name of your connection\n",
    "\n",
    "# Note that the object has the 'execute' attribute set to True by default. \n",
    "# If you only want to use functionalities without executing the queries, \n",
    "# set it to False.\n",
    "\n",
    "# Note: If you want to do this for each object you create, you can go to the \n",
    "# path {}/utils/make_connection.py and update the value of the conn_str \n",
    "# parameter on line 8\n",
    "\n",
    "executer = ExecuteQuery(execute=True, conn_str=\"DSN=impala_nube\")"
   ]
  },
  {
   "cell_type": "markdown",
   "metadata": {},
   "source": [
    "## Run query in current notebook"
   ]
  },
  {
   "cell_type": "code",
   "execution_count": null,
   "metadata": {},
   "outputs": [],
   "source": [
    "query = \"\"\"\n",
    "SELECT *\n",
    "FROM alianza.binmc\n",
    "\"\"\"\n",
    "\n",
    "executer.run_sql_query(query=query, verbose=True)"
   ]
  },
  {
   "cell_type": "markdown",
   "metadata": {},
   "source": [
    "## Run query stored in folder"
   ]
  },
  {
   "cell_type": "code",
   "execution_count": null,
   "metadata": {},
   "outputs": [],
   "source": [
    "# You can directly pass the name of the file containing the query. In this \n",
    "# example it is located in the queries/develop folder\n",
    "\n",
    "file_name = 'test.sql'\n",
    "executer.run_sql_query(query=file_name, verbose=True)"
   ]
  },
  {
   "cell_type": "markdown",
   "metadata": {},
   "source": [
    "## Create empty table"
   ]
  },
  {
   "cell_type": "code",
   "execution_count": null,
   "metadata": {},
   "outputs": [],
   "source": [
    "executer. create_empty_table(\n",
    "                        table_name = 'work_sas.prueba_analitica_riesgos',\n",
    "                        columns = list('abcde'), # List of columns names\n",
    "                        types_columns = [\"STRING\", \"STRING\", \"STRING\", \"INT\", \"INT\"], # Types of each column. By default all like STRING\n",
    "                        drop_table = True, # Delete table if exists\n",
    "                        drop_just_metadata = False, # Execute a TRUNCATE method, use in external tables\n",
    "                        external_table = True, # Create table as EXTERNAL TABLE \n",
    "                        partitioned = True, # Generate partitions in table\n",
    "                        columns_to_partition = ['a', 'd'],  # Columns to make partitions\n",
    "                        verbose = True\n",
    "                    )"
   ]
  },
  {
   "cell_type": "markdown",
   "metadata": {},
   "source": [
    "## Create table using a query"
   ]
  },
  {
   "cell_type": "code",
   "execution_count": null,
   "metadata": {},
   "outputs": [],
   "source": [
    "executer.create_table_as(\n",
    "                        table_name = 'work_sas.prueba_analitica_riesgos',\n",
    "                        as_query = \"test.sql\", # Past query of .sql file with query\n",
    "                        drop_table = True, # Delete table if exists\n",
    "                        drop_just_metadata = False, # Execute a TRUNCATE method, use in external tables\n",
    "                        external_table = True, # Create table as EXTERNAL TABLE  \n",
    "                        partitoned = True, # Generate partitions in table\n",
    "                        columns_to_partition = ['grupo_producto'], # Columns to make partitions\n",
    "                        verbose = True\n",
    "                    )"
   ]
  },
  {
   "cell_type": "markdown",
   "metadata": {},
   "source": [
    "## Insert values using a query"
   ]
  },
  {
   "cell_type": "code",
   "execution_count": null,
   "metadata": {},
   "outputs": [],
   "source": [
    "# Since the INSERT INTO is using a partition on the product_group column, this \n",
    "# column has to be removed from the insert_query\n",
    "\n",
    "# Since you are adding a value to the partition, all records are left with that value\n",
    "\n",
    "insert_query = read_file('test.sql')\n",
    "insert_query = ''.join(insert_query.split(',\\n    grupo_producto'))\n",
    "\n",
    "executer.insert_values(table_name = 'work_sas.prueba_analitica_riesgos',\n",
    "                    type_insert = 'by_query', # You can insert the results of a query or 'by_values'\n",
    "                    into = True, # Select between INTO or OVERWRITE insert\n",
    "                    insert_query = insert_query, # The query response values ​​are inserted into the new table\n",
    "                    values = None, # Just for 'by_values' type insert\n",
    "                    partitioned = True, # Generate partitions in table\n",
    "                    columns_to_partition = ['grupo_producto'], \n",
    "                    partition_values = ['\"MASTERCARD CARULLA\"'],\n",
    "                    verbose = True)"
   ]
  },
  {
   "cell_type": "code",
   "execution_count": null,
   "metadata": {},
   "outputs": [],
   "source": [
    "# If you just want to keep the value of the partition column then keep the \n",
    "# parameter partition_values=[], and do not remove the column from the insert_query\n",
    "\n",
    "insert_query = read_file('test.sql')\n",
    "# insert_query = ''.join(insert_query.split(',\\n    grupo_producto'))\n",
    "\n",
    "executer.insert_values(table_name = 'work_sas.prueba_analitica_riesgos',\n",
    "                    type_insert = 'by_query', # You can insert the results of a query or 'by_values'\n",
    "                    into = True, # Select between INTO or OVERWRITE insert\n",
    "                    insert_query = insert_query, # The query response values ​​are inserted into the new table\n",
    "                    values = None, # Just for 'by_values' type insert\n",
    "                    partitioned = True, # Generate partitions in table\n",
    "                    columns_to_partition = ['grupo_producto'], \n",
    "                    partition_values = [],\n",
    "                    verbose = True)"
   ]
  },
  {
   "cell_type": "markdown",
   "metadata": {},
   "source": [
    "## Create table using insert"
   ]
  },
  {
   "cell_type": "code",
   "execution_count": null,
   "metadata": {},
   "outputs": [],
   "source": [
    "# This functionality first creates an empty table with the columns supplied and \n",
    "# then inserts values ​​into the table.\n",
    "\n",
    "# It is a fusion of create_empty_table and insert_values ​​methods.\n",
    "\n",
    "# Take into account the instructions in the 'Insert values using a query' section \n",
    "# since the same conditions apply here regarding insert_values ​​and partition_values\n",
    "\n",
    "\n",
    "columns_example = [\n",
    "    'bin',\n",
    "    'desc_bin',\n",
    "    'abrev',\n",
    "    'grupo_bin',\n",
    "    'logo',\n",
    "    'grupo_producto'\n",
    "]\n",
    "\n",
    "executer.create_table_insert( \n",
    "                            table_name = 'work_sas.prueba_analitica_riesgos',\n",
    "                            columns = columns_example,\n",
    "                            into = True, # Select between INTO or OVERWRITE insert\n",
    "                            insert_query = \"test.sql\", # The query response values ​​are inserted into the new table\n",
    "                            type_insert = 'by_query', # You can insert the results of a query or 'by_values'\n",
    "                            values = None, # Just for 'by_values' type insert\n",
    "                            types_columns = ['STRING'], # By default all columns like STRING\n",
    "                            drop_table = True, # Delete table if exists\n",
    "                            drop_just_metadata = False, # Execute a TRUNCATE method, use in external tables\n",
    "                            external_table = True, # Create table as EXTERNAL TABLE \n",
    "                            partitioned = True, # Generate partitions in table \n",
    "                            columns_to_partition = ['grupo_producto'], # Columns to generate partitions\n",
    "                            partition_values = [], # Use it when the results of the insert_query correspond to a specific partition value, for example when you are inserting values ​​into a history and partitioning by 'fa'\n",
    "                            verbose = True\n",
    "                        )"
   ]
  },
  {
   "cell_type": "code",
   "execution_count": null,
   "metadata": {},
   "outputs": [],
   "source": []
  }
 ],
 "metadata": {
  "kernelspec": {
   "display_name": "Python 3",
   "language": "python",
   "name": "python3"
  },
  "language_info": {
   "codemirror_mode": {
    "name": "ipython",
    "version": 3
   },
   "file_extension": ".py",
   "mimetype": "text/x-python",
   "name": "python",
   "nbconvert_exporter": "python",
   "pygments_lexer": "ipython3",
   "version": "3.11.3"
  }
 },
 "nbformat": 4,
 "nbformat_minor": 2
}
